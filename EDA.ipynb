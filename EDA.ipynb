{
 "cells": [
  {
   "cell_type": "markdown",
   "id": "26c6b980-9993-44cd-8e19-cb6d86fa4611",
   "metadata": {},
   "source": [
    "# EDA "
   ]
  },
  {
   "cell_type": "code",
   "execution_count": 2,
   "id": "c82794b2-8e1b-447f-975b-2b89cdeaa57e",
   "metadata": {
    "tags": []
   },
   "outputs": [],
   "source": [
    "\n",
    "import os\n",
    "from collections import defaultdict\n",
    "import shutil\n",
    "from PIL import Image\n",
    "import hashlib\n",
    "import os\n",
    "import pandas as pd\n",
    "import numpy as np\n",
    "import json\n",
    "from matplotlib.patches import Patch\n",
    "import matplotlib.pyplot as plt\n"
   ]
  },
  {
   "cell_type": "markdown",
   "id": "35643600-707d-494d-8950-f42e0dbe3633",
   "metadata": {},
   "source": [
    "### Load dataset and check distribution"
   ]
  },
  {
   "cell_type": "code",
   "execution_count": 24,
   "id": "5f3fcc8e-40ba-4fa6-9025-6ff4fe3ae30f",
   "metadata": {},
   "outputs": [
    {
     "name": "stdout",
     "output_type": "stream",
     "text": [
      "Disease-wise Image Count in CCMT Dataset:\n",
      "Cashew - anthracnose: 1729 images\n",
      "Cashew - gumosis: 392 images\n",
      "Cashew - healthy: 1368 images\n",
      "Cashew - leaf miner: 1378 images\n",
      "Cashew - red rust: 1682 images\n",
      "Cassava - bacterial blight: 2614 images\n",
      "Cassava - brown spot: 1481 images\n",
      "Cassava - green mite: 1015 images\n",
      "Cassava - healthy: 1193 images\n",
      "Cassava - mosaic: 1205 images\n",
      "Maize - fall armyworm: 285 images\n",
      "Maize - grasshoper: 673 images\n",
      "Maize - healthy: 208 images\n",
      "Maize - leaf beetle: 948 images\n",
      "Maize - leaf blight: 1006 images\n",
      "Maize - leaf spot: 1259 images\n",
      "Maize - streak virus: 979 images\n",
      "Tomato - healthy: 470 images\n",
      "Tomato - leaf blight: 1301 images\n",
      "Tomato - leaf curl: 518 images\n",
      "Tomato - septoria leaf spot: 2743 images\n",
      "Tomato - verticulium wilt: 773 images\n",
      "Total number of images in the dataset: 25220\n"
     ]
    }
   ],
   "source": [
    "\n",
    "# define the dataset path\n",
    "dataset_path = r\"C:\\Users\\Xuxu\\Desktop\\CCMT Dataset\"\n",
    "\n",
    "# dictionary to store the count of images per disease\n",
    "image_counts = defaultdict(int)\n",
    "\n",
    "total_images = 0\n",
    "valid_extensions = {\"jpg\", \"jpeg\", \"png\", \"bmp\", \"tiff\", \"gif\"}  \n",
    "\n",
    "# check if dataset path exists\n",
    "if not os.path.exists(dataset_path):\n",
    "    print(f\"Error: The dataset folder '{dataset_path}' was not found.\")\n",
    "else:\n",
    "    for crop in os.listdir(dataset_path):\n",
    "        crop_path = os.path.join(dataset_path, crop)\n",
    "        if os.path.isdir(crop_path):\n",
    "            for disease in os.listdir(crop_path):\n",
    "                disease_path = os.path.join(crop_path, disease)\n",
    "                if os.path.isdir(disease_path):\n",
    "                    num_images = len([f for f in os.listdir(disease_path) \n",
    "                                      if f.split('.')[-1].lower() in valid_extensions and not f.startswith('.')])\n",
    "                    image_counts[f\"{crop} - {disease}\"] = num_images\n",
    "                    total_images += num_images\n",
    "\n",
    "    print(\"Disease-wise Image Count in CCMT Dataset:\")\n",
    "    for disease, count in image_counts.items():\n",
    "        print(f\"{disease}: {count} images\")\n",
    "    \n",
    "    print(f\"Total number of images in the dataset: {total_images}\")\n"
   ]
  },
  {
   "cell_type": "markdown",
   "id": "01cd0345-bbff-4876-ab21-51fd62df6c86",
   "metadata": {},
   "source": [
    "###  Remove insect classes"
   ]
  },
  {
   "cell_type": "code",
   "execution_count": 25,
   "id": "57538d2d-4116-4d4e-acd9-fe70eb9b7694",
   "metadata": {},
   "outputs": [
    {
     "name": "stdout",
     "output_type": "stream",
     "text": [
      "Removed folder: C:\\Users\\Xuxu\\Desktop\\CCMT Dataset\\Cashew\\leaf miner\n",
      "Removed folder: C:\\Users\\Xuxu\\Desktop\\CCMT Dataset\\Cassava\\green mite\n",
      "Removed folder: C:\\Users\\Xuxu\\Desktop\\CCMT Dataset\\Maize\\fall armyworm\n",
      "Removed folder: C:\\Users\\Xuxu\\Desktop\\CCMT Dataset\\Maize\\grasshoper\n",
      "Removed folder: C:\\Users\\Xuxu\\Desktop\\CCMT Dataset\\Maize\\leaf beetle\n",
      "Remaining crop folders after removal: ['Cashew', 'Cassava', 'Maize', 'Tomato']\n"
     ]
    }
   ],
   "source": [
    "\n",
    "# list of insect-related diseases (folder names to be removed)\n",
    "insect_diseases = {\n",
    "    \"leaf miner\",\n",
    "    \"green mite\",\n",
    "    \"fall armyworm\",\n",
    "    \"grasshoper\",\n",
    "    \"leaf beetle\",\n",
    "}\n",
    "\n",
    "# traverse the dataset directory and remove insect disease folders\n",
    "for crop_folder in os.listdir(dataset_path):\n",
    "    crop_path = os.path.join(dataset_path, crop_folder)\n",
    "    \n",
    "    if not os.path.isdir(crop_path):\n",
    "        continue\n",
    "    \n",
    "    for disease_folder in os.listdir(crop_path):\n",
    "        disease_path = os.path.join(crop_path, disease_folder)\n",
    "        \n",
    "        if any(insect_disease in disease_folder.lower() for insect_disease in insect_diseases):\n",
    "            shutil.rmtree(disease_path)\n",
    "            print(f\"Removed folder: {disease_path}\")\n",
    "\n",
    "# check the remaining crop folders after removal\n",
    "remaining_folders = [crop_folder for crop_folder in os.listdir(dataset_path) \n",
    "                     if os.path.isdir(os.path.join(dataset_path, crop_folder))]\n",
    "print(f\"Remaining crop folders after removal: {remaining_folders}\")\n"
   ]
  },
  {
   "cell_type": "code",
   "execution_count": 27,
   "id": "6325595b-c727-4938-a580-ba993dafc133",
   "metadata": {},
   "outputs": [
    {
     "name": "stdout",
     "output_type": "stream",
     "text": [
      "Image Count in CCMT Dataset:\n",
      "Cashew - anthracnose: 1729 images\n",
      "Cashew - gumosis: 392 images\n",
      "Cashew - healthy: 1368 images\n",
      "Cashew - red rust: 1682 images\n",
      "Cassava - bacterial blight: 2614 images\n",
      "Cassava - brown spot: 1481 images\n",
      "Cassava - healthy: 1193 images\n",
      "Cassava - mosaic: 1205 images\n",
      "Maize - healthy: 208 images\n",
      "Maize - leaf blight: 1006 images\n",
      "Maize - leaf spot: 1259 images\n",
      "Maize - streak virus: 979 images\n",
      "Tomato - healthy: 470 images\n",
      "Tomato - leaf blight: 1301 images\n",
      "Tomato - leaf curl: 518 images\n",
      "Tomato - septoria leaf spot: 2743 images\n",
      "Tomato - verticulium wilt: 773 images\n",
      "Total number of images in the dataset: 20921\n"
     ]
    }
   ],
   "source": [
    "valid_extensions = {\"jpg\", \"jpeg\", \"png\", \"bmp\", \"tiff\", \"gif\"}\n",
    "image_counts = defaultdict(int)\n",
    "total_images = 0\n",
    "\n",
    "if os.path.exists(dataset_path):\n",
    "    for crop in os.listdir(dataset_path):\n",
    "        crop_path = os.path.join(dataset_path, crop)\n",
    "        if not os.path.isdir(crop_path):\n",
    "            continue\n",
    "\n",
    "        for disease in os.listdir(crop_path):\n",
    "            disease_path = os.path.join(crop_path, disease)\n",
    "            if not os.path.isdir(disease_path):\n",
    "                continue\n",
    "\n",
    "            num_images = sum(\n",
    "                1 for f in os.listdir(disease_path)\n",
    "                if f.split('.')[-1].lower() in valid_extensions and not f.startswith('.')\n",
    "            )\n",
    "            image_counts[f\"{crop} - {disease}\"] = num_images\n",
    "            total_images += num_images\n",
    "\n",
    "    print(\"Image Count in CCMT Dataset:\")\n",
    "    for disease, count in image_counts.items():\n",
    "        print(f\"{disease}: {count} images\")\n",
    "    print(f\"Total number of images in the dataset: {total_images}\")\n",
    "else:\n",
    "    print(f\" Dataset path '{dataset_path}' not found.\")\n"
   ]
  },
  {
   "cell_type": "markdown",
   "id": "684bab49-00a8-4bbe-924d-23791a79380e",
   "metadata": {},
   "source": [
    "### Remove corrupted images "
   ]
  },
  {
   "cell_type": "code",
   "execution_count": 28,
   "id": "15b7b62e-1d0e-4fdb-97aa-dd40593c8b35",
   "metadata": {},
   "outputs": [
    {
     "name": "stdout",
     "output_type": "stream",
     "text": [
      " Corrupted: C:/Users/Xuxu/Desktop/CCMT Dataset\\Maize\\healthy\\healthy189_.jpg (broken data stream when reading image file)\n",
      " Corrupted: C:/Users/Xuxu/Desktop/CCMT Dataset\\Maize\\healthy\\healthy18_.jpg (cannot identify image file 'C:\\\\Users\\\\Xuxu\\\\Desktop\\\\CCMT Dataset\\\\Maize\\\\healthy\\\\healthy18_.jpg')\n",
      " Corrupted: C:/Users/Xuxu/Desktop/CCMT Dataset\\Maize\\healthy\\healthy87_.jpg (broken data stream when reading image file)\n",
      " Corrupted: C:/Users/Xuxu/Desktop/CCMT Dataset\\Maize\\healthy\\healthy88_.jpg (cannot identify image file 'C:\\\\Users\\\\Xuxu\\\\Desktop\\\\CCMT Dataset\\\\Maize\\\\healthy\\\\healthy88_.jpg')\n",
      " Corrupted: C:/Users/Xuxu/Desktop/CCMT Dataset\\Maize\\leaf blight\\leaf blight379_.jpg (broken data stream when reading image file)\n",
      " Corrupted: C:/Users/Xuxu/Desktop/CCMT Dataset\\Maize\\leaf blight\\leaf blight37_.jpg (cannot identify image file 'C:\\\\Users\\\\Xuxu\\\\Desktop\\\\CCMT Dataset\\\\Maize\\\\leaf blight\\\\leaf blight37_.jpg')\n",
      " Corrupted: C:/Users/Xuxu/Desktop/CCMT Dataset\\Maize\\leaf blight\\leaf blight452_.jpg (broken data stream when reading image file)\n",
      " Corrupted: C:/Users/Xuxu/Desktop/CCMT Dataset\\Maize\\leaf blight\\leaf blight453_.jpg (cannot identify image file 'C:\\\\Users\\\\Xuxu\\\\Desktop\\\\CCMT Dataset\\\\Maize\\\\leaf blight\\\\leaf blight453_.jpg')\n",
      " Corrupted: C:/Users/Xuxu/Desktop/CCMT Dataset\\Maize\\leaf blight\\leaf blight522_.jpg (broken data stream when reading image file)\n",
      " Corrupted: C:/Users/Xuxu/Desktop/CCMT Dataset\\Maize\\leaf blight\\leaf blight58_.jpg (broken data stream when reading image file)\n",
      " Corrupted: C:/Users/Xuxu/Desktop/CCMT Dataset\\Maize\\leaf blight\\leaf blight590_.jpg (cannot identify image file 'C:\\\\Users\\\\Xuxu\\\\Desktop\\\\CCMT Dataset\\\\Maize\\\\leaf blight\\\\leaf blight590_.jpg')\n",
      " Corrupted: C:/Users/Xuxu/Desktop/CCMT Dataset\\Maize\\leaf blight\\leaf blight666_.jpg (broken data stream when reading image file)\n",
      " Corrupted: C:/Users/Xuxu/Desktop/CCMT Dataset\\Maize\\leaf blight\\leaf blight667_.jpg (cannot identify image file 'C:\\\\Users\\\\Xuxu\\\\Desktop\\\\CCMT Dataset\\\\Maize\\\\leaf blight\\\\leaf blight667_.jpg')\n",
      " Corrupted: C:/Users/Xuxu/Desktop/CCMT Dataset\\Maize\\leaf blight\\leaf blight745_.jpg (broken data stream when reading image file)\n",
      " Corrupted: C:/Users/Xuxu/Desktop/CCMT Dataset\\Maize\\leaf blight\\leaf blight746_.jpg (cannot identify image file 'C:\\\\Users\\\\Xuxu\\\\Desktop\\\\CCMT Dataset\\\\Maize\\\\leaf blight\\\\leaf blight746_.jpg')\n",
      " Corrupted: C:/Users/Xuxu/Desktop/CCMT Dataset\\Maize\\leaf blight\\leaf blight82_.jpg (broken data stream when reading image file)\n",
      " Corrupted: C:/Users/Xuxu/Desktop/CCMT Dataset\\Maize\\leaf blight\\leaf blight830_.jpg (cannot identify image file 'C:\\\\Users\\\\Xuxu\\\\Desktop\\\\CCMT Dataset\\\\Maize\\\\leaf blight\\\\leaf blight830_.jpg')\n",
      " Corrupted: C:/Users/Xuxu/Desktop/CCMT Dataset\\Maize\\leaf blight\\leaf blight912_.jpg (broken data stream when reading image file)\n",
      " Corrupted: C:/Users/Xuxu/Desktop/CCMT Dataset\\Maize\\leaf blight\\leaf blight913_.jpg (cannot identify image file 'C:\\\\Users\\\\Xuxu\\\\Desktop\\\\CCMT Dataset\\\\Maize\\\\leaf blight\\\\leaf blight913_.jpg')\n",
      " Corrupted: C:/Users/Xuxu/Desktop/CCMT Dataset\\Maize\\leaf blight\\leaf blight98_.jpg (cannot identify image file 'C:\\\\Users\\\\Xuxu\\\\Desktop\\\\CCMT Dataset\\\\Maize\\\\leaf blight\\\\leaf blight98_.jpg')\n",
      " Corrupted: C:/Users/Xuxu/Desktop/CCMT Dataset\\Maize\\leaf spot\\leaf spot186_.jpg (broken data stream when reading image file)\n",
      " Corrupted: C:/Users/Xuxu/Desktop/CCMT Dataset\\Maize\\leaf spot\\leaf spot187_.jpg (cannot identify image file 'C:\\\\Users\\\\Xuxu\\\\Desktop\\\\CCMT Dataset\\\\Maize\\\\leaf spot\\\\leaf spot187_.jpg')\n",
      " Corrupted: C:/Users/Xuxu/Desktop/CCMT Dataset\\Maize\\leaf spot\\leaf spot271_.jpg (broken data stream when reading image file)\n",
      " Corrupted: C:/Users/Xuxu/Desktop/CCMT Dataset\\Maize\\leaf spot\\leaf spot272_.jpg (cannot identify image file 'C:\\\\Users\\\\Xuxu\\\\Desktop\\\\CCMT Dataset\\\\Maize\\\\leaf spot\\\\leaf spot272_.jpg')\n",
      " Corrupted: C:/Users/Xuxu/Desktop/CCMT Dataset\\Maize\\leaf spot\\leaf spot353_.jpg (cannot identify image file 'C:\\\\Users\\\\Xuxu\\\\Desktop\\\\CCMT Dataset\\\\Maize\\\\leaf spot\\\\leaf spot353_.jpg')\n",
      " Corrupted: C:/Users/Xuxu/Desktop/CCMT Dataset\\Maize\\leaf spot\\leaf spot424_.jpg (broken data stream when reading image file)\n",
      " Corrupted: C:/Users/Xuxu/Desktop/CCMT Dataset\\Maize\\leaf spot\\leaf spot425_.jpg (cannot identify image file 'C:\\\\Users\\\\Xuxu\\\\Desktop\\\\CCMT Dataset\\\\Maize\\\\leaf spot\\\\leaf spot425_.jpg')\n",
      " Corrupted: C:/Users/Xuxu/Desktop/CCMT Dataset\\Maize\\leaf spot\\leaf spot496_.jpg (broken data stream when reading image file)\n",
      " Corrupted: C:/Users/Xuxu/Desktop/CCMT Dataset\\Maize\\leaf spot\\leaf spot497_.jpg (cannot identify image file 'C:\\\\Users\\\\Xuxu\\\\Desktop\\\\CCMT Dataset\\\\Maize\\\\leaf spot\\\\leaf spot497_.jpg')\n",
      " Corrupted: C:/Users/Xuxu/Desktop/CCMT Dataset\\Maize\\leaf spot\\leaf spot578_.jpg (broken data stream when reading image file)\n",
      " Corrupted: C:/Users/Xuxu/Desktop/CCMT Dataset\\Maize\\leaf spot\\leaf spot649_.jpg (broken data stream when reading image file)\n",
      " Corrupted: C:/Users/Xuxu/Desktop/CCMT Dataset\\Maize\\leaf spot\\leaf spot64_.jpg (cannot identify image file 'C:\\\\Users\\\\Xuxu\\\\Desktop\\\\CCMT Dataset\\\\Maize\\\\leaf spot\\\\leaf spot64_.jpg')\n",
      " Corrupted: C:/Users/Xuxu/Desktop/CCMT Dataset\\Maize\\leaf spot\\leaf spot723_.jpg (broken data stream when reading image file)\n",
      " Corrupted: C:/Users/Xuxu/Desktop/CCMT Dataset\\Maize\\leaf spot\\leaf spot724_.jpg (cannot identify image file 'C:\\\\Users\\\\Xuxu\\\\Desktop\\\\CCMT Dataset\\\\Maize\\\\leaf spot\\\\leaf spot724_.jpg')\n",
      " Corrupted: C:/Users/Xuxu/Desktop/CCMT Dataset\\Maize\\leaf spot\\leaf spot798_.jpg (broken data stream when reading image file)\n",
      " Corrupted: C:/Users/Xuxu/Desktop/CCMT Dataset\\Maize\\leaf spot\\leaf spot799_.jpg (cannot identify image file 'C:\\\\Users\\\\Xuxu\\\\Desktop\\\\CCMT Dataset\\\\Maize\\\\leaf spot\\\\leaf spot799_.jpg')\n",
      " Corrupted: C:/Users/Xuxu/Desktop/CCMT Dataset\\Maize\\leaf spot\\leaf spot881_.jpg (broken data stream when reading image file)\n",
      " Corrupted: C:/Users/Xuxu/Desktop/CCMT Dataset\\Maize\\leaf spot\\leaf spot882_.jpg (cannot identify image file 'C:\\\\Users\\\\Xuxu\\\\Desktop\\\\CCMT Dataset\\\\Maize\\\\leaf spot\\\\leaf spot882_.jpg')\n",
      " Corrupted: C:/Users/Xuxu/Desktop/CCMT Dataset\\Maize\\leaf spot\\leaf spot957_.jpg (broken data stream when reading image file)\n",
      " Corrupted: C:/Users/Xuxu/Desktop/CCMT Dataset\\Maize\\leaf spot\\leaf spot958_.jpg (cannot identify image file 'C:\\\\Users\\\\Xuxu\\\\Desktop\\\\CCMT Dataset\\\\Maize\\\\leaf spot\\\\leaf spot958_.jpg')\n",
      " Corrupted: C:/Users/Xuxu/Desktop/CCMT Dataset\\Maize\\streak virus\\streak virus118_.jpg (broken data stream when reading image file)\n",
      " Corrupted: C:/Users/Xuxu/Desktop/CCMT Dataset\\Maize\\streak virus\\streak virus119_.jpg (cannot identify image file 'C:\\\\Users\\\\Xuxu\\\\Desktop\\\\CCMT Dataset\\\\Maize\\\\streak virus\\\\streak virus119_.jpg')\n",
      " Corrupted: C:/Users/Xuxu/Desktop/CCMT Dataset\\Maize\\streak virus\\streak virus421_.jpg (broken data stream when reading image file)\n",
      " Corrupted: C:/Users/Xuxu/Desktop/CCMT Dataset\\Maize\\streak virus\\streak virus422_.jpg (cannot identify image file 'C:\\\\Users\\\\Xuxu\\\\Desktop\\\\CCMT Dataset\\\\Maize\\\\streak virus\\\\streak virus422_.jpg')\n",
      " Corrupted: C:/Users/Xuxu/Desktop/CCMT Dataset\\Maize\\streak virus\\streak virus485_.jpg (broken data stream when reading image file)\n",
      " Corrupted: C:/Users/Xuxu/Desktop/CCMT Dataset\\Maize\\streak virus\\streak virus486_.jpg (cannot identify image file 'C:\\\\Users\\\\Xuxu\\\\Desktop\\\\CCMT Dataset\\\\Maize\\\\streak virus\\\\streak virus486_.jpg')\n",
      " Corrupted: C:/Users/Xuxu/Desktop/CCMT Dataset\\Maize\\streak virus\\streak virus554_.jpg (broken data stream when reading image file)\n",
      " Corrupted: C:/Users/Xuxu/Desktop/CCMT Dataset\\Maize\\streak virus\\streak virus626_.jpg (broken data stream when reading image file)\n",
      " Corrupted: C:/Users/Xuxu/Desktop/CCMT Dataset\\Maize\\streak virus\\streak virus627_.jpg (Truncated File Read)\n",
      " Corrupted: C:/Users/Xuxu/Desktop/CCMT Dataset\\Maize\\streak virus\\streak virus701_.jpg (cannot identify image file 'C:\\\\Users\\\\Xuxu\\\\Desktop\\\\CCMT Dataset\\\\Maize\\\\streak virus\\\\streak virus701_.jpg')\n",
      " Corrupted: C:/Users/Xuxu/Desktop/CCMT Dataset\\Maize\\streak virus\\streak virus773_.jpg (broken data stream when reading image file)\n",
      " Corrupted: C:/Users/Xuxu/Desktop/CCMT Dataset\\Maize\\streak virus\\streak virus774_.jpg (cannot identify image file 'C:\\\\Users\\\\Xuxu\\\\Desktop\\\\CCMT Dataset\\\\Maize\\\\streak virus\\\\streak virus774_.jpg')\n",
      " Corrupted: C:/Users/Xuxu/Desktop/CCMT Dataset\\Maize\\streak virus\\streak virus997_.jpg (broken data stream when reading image file)\n",
      " Corrupted: C:/Users/Xuxu/Desktop/CCMT Dataset\\Maize\\streak virus\\streak virus998_.jpg (cannot identify image file 'C:\\\\Users\\\\Xuxu\\\\Desktop\\\\CCMT Dataset\\\\Maize\\\\streak virus\\\\streak virus998_.jpg')\n",
      " Corrupted: C:/Users/Xuxu/Desktop/CCMT Dataset\\Tomato\\healthy\\healthy442_.jpg (broken data stream when reading image file)\n",
      " Corrupted: C:/Users/Xuxu/Desktop/CCMT Dataset\\Tomato\\healthy\\healthy443_.jpg (Truncated File Read)\n",
      " Corrupted: C:/Users/Xuxu/Desktop/CCMT Dataset\\Tomato\\healthy\\healthy76_.jpg (broken data stream when reading image file)\n",
      " Corrupted: C:/Users/Xuxu/Desktop/CCMT Dataset\\Tomato\\healthy\\healthy77_.jpg (cannot identify image file 'C:\\\\Users\\\\Xuxu\\\\Desktop\\\\CCMT Dataset\\\\Tomato\\\\healthy\\\\healthy77_.jpg')\n",
      " Corrupted: C:/Users/Xuxu/Desktop/CCMT Dataset\\Tomato\\leaf blight\\leaf blight1232_.jpg (cannot identify image file 'C:\\\\Users\\\\Xuxu\\\\Desktop\\\\CCMT Dataset\\\\Tomato\\\\leaf blight\\\\leaf blight1232_.jpg')\n",
      " Corrupted: C:/Users/Xuxu/Desktop/CCMT Dataset\\Tomato\\leaf blight\\leaf blight386_.jpg (broken data stream when reading image file)\n",
      " Corrupted: C:/Users/Xuxu/Desktop/CCMT Dataset\\Tomato\\leaf blight\\leaf blight470_.jpg (broken data stream when reading image file)\n",
      " Corrupted: C:/Users/Xuxu/Desktop/CCMT Dataset\\Tomato\\leaf blight\\leaf blight471_.jpg (cannot identify image file 'C:\\\\Users\\\\Xuxu\\\\Desktop\\\\CCMT Dataset\\\\Tomato\\\\leaf blight\\\\leaf blight471_.jpg')\n",
      " Corrupted: C:/Users/Xuxu/Desktop/CCMT Dataset\\Tomato\\leaf blight\\leaf blight558_.jpg (cannot identify image file 'C:\\\\Users\\\\Xuxu\\\\Desktop\\\\CCMT Dataset\\\\Tomato\\\\leaf blight\\\\leaf blight558_.jpg')\n",
      " Corrupted: C:/Users/Xuxu/Desktop/CCMT Dataset\\Tomato\\leaf blight\\leaf blight644_.jpg (broken data stream when reading image file)\n",
      " Corrupted: C:/Users/Xuxu/Desktop/CCMT Dataset\\Tomato\\leaf blight\\leaf blight645_.jpg (cannot identify image file 'C:\\\\Users\\\\Xuxu\\\\Desktop\\\\CCMT Dataset\\\\Tomato\\\\leaf blight\\\\leaf blight645_.jpg')\n",
      " Corrupted: C:/Users/Xuxu/Desktop/CCMT Dataset\\Tomato\\leaf blight\\leaf blight72_.jpg (cannot identify image file 'C:\\\\Users\\\\Xuxu\\\\Desktop\\\\CCMT Dataset\\\\Tomato\\\\leaf blight\\\\leaf blight72_.jpg')\n",
      " Corrupted: C:/Users/Xuxu/Desktop/CCMT Dataset\\Tomato\\leaf blight\\leaf blight813_.jpg (broken data stream when reading image file)\n",
      " Corrupted: C:/Users/Xuxu/Desktop/CCMT Dataset\\Tomato\\leaf blight\\leaf blight814_.jpg (cannot identify image file 'C:\\\\Users\\\\Xuxu\\\\Desktop\\\\CCMT Dataset\\\\Tomato\\\\leaf blight\\\\leaf blight814_.jpg')\n",
      " Corrupted: C:/Users/Xuxu/Desktop/CCMT Dataset\\Tomato\\leaf blight\\leaf blight8_.jpg (broken data stream when reading image file)\n",
      " Corrupted: C:/Users/Xuxu/Desktop/CCMT Dataset\\Tomato\\leaf blight\\leaf blight997_.jpg (broken data stream when reading image file)\n",
      " Corrupted: C:/Users/Xuxu/Desktop/CCMT Dataset\\Tomato\\leaf blight\\leaf blight998_.jpg (cannot identify image file 'C:\\\\Users\\\\Xuxu\\\\Desktop\\\\CCMT Dataset\\\\Tomato\\\\leaf blight\\\\leaf blight998_.jpg')\n",
      " Corrupted: C:/Users/Xuxu/Desktop/CCMT Dataset\\Tomato\\leaf curl\\leaf curl186_.jpg (cannot identify image file 'C:\\\\Users\\\\Xuxu\\\\Desktop\\\\CCMT Dataset\\\\Tomato\\\\leaf curl\\\\leaf curl186_.jpg')\n",
      " Corrupted: C:/Users/Xuxu/Desktop/CCMT Dataset\\Tomato\\leaf curl\\leaf curl270_.jpg (broken data stream when reading image file)\n",
      " Corrupted: C:/Users/Xuxu/Desktop/CCMT Dataset\\Tomato\\leaf curl\\leaf curl271_.jpg (cannot identify image file 'C:\\\\Users\\\\Xuxu\\\\Desktop\\\\CCMT Dataset\\\\Tomato\\\\leaf curl\\\\leaf curl271_.jpg')\n",
      " Corrupted: C:/Users/Xuxu/Desktop/CCMT Dataset\\Tomato\\leaf curl\\leaf curl353_.jpg (broken data stream when reading image file)\n",
      " Corrupted: C:/Users/Xuxu/Desktop/CCMT Dataset\\Tomato\\leaf curl\\leaf curl354_.jpg (cannot identify image file 'C:\\\\Users\\\\Xuxu\\\\Desktop\\\\CCMT Dataset\\\\Tomato\\\\leaf curl\\\\leaf curl354_.jpg')\n",
      " Corrupted: C:/Users/Xuxu/Desktop/CCMT Dataset\\Tomato\\leaf curl\\leaf curl439_.jpg (broken data stream when reading image file)\n",
      " Corrupted: C:/Users/Xuxu/Desktop/CCMT Dataset\\Tomato\\leaf curl\\leaf curl43_.jpg (cannot identify image file 'C:\\\\Users\\\\Xuxu\\\\Desktop\\\\CCMT Dataset\\\\Tomato\\\\leaf curl\\\\leaf curl43_.jpg')\n",
      " Corrupted: C:/Users/Xuxu/Desktop/CCMT Dataset\\Tomato\\verticulium wilt\\verticulium wilt403_.jpg (broken data stream when reading image file)\n",
      "\n",
      " Found 79 corrupted images.\n"
     ]
    }
   ],
   "source": [
    "\n",
    "\n",
    "def find_actually_corrupted_images(folder):\n",
    "    corrupted = []\n",
    "    for root, _, files in os.walk(folder):\n",
    "        for file in files:\n",
    "            if file.lower().endswith((\".jpg\", \".jpeg\", \".png\")):\n",
    "                path = os.path.join(root, file)\n",
    "                try:\n",
    "                    with Image.open(path) as img:\n",
    "                        img.convert(\"RGB\")  \n",
    "                        img.load()          \n",
    "                except Exception as e:\n",
    "                    print(f\" Corrupted: {path} ({e})\")\n",
    "                    corrupted.append(path)\n",
    "    return corrupted\n",
    "\n",
    "corrupted_images = find_actually_corrupted_images(\"C:/Users/Xuxu/Desktop/CCMT Dataset\")\n",
    "print(f\"\\n Found {len(corrupted_images)} corrupted images.\")\n"
   ]
  },
  {
   "cell_type": "code",
   "execution_count": 29,
   "id": "9d9c5e50-d236-4339-92bf-ccb9581b84f0",
   "metadata": {},
   "outputs": [
    {
     "name": "stdout",
     "output_type": "stream",
     "text": [
      "Finished removing 79 corrupted images.\n"
     ]
    }
   ],
   "source": [
    "\n",
    "\n",
    "removed_count = 0\n",
    "\n",
    "for path in corrupted_images:\n",
    "    try:\n",
    "        os.remove(path)\n",
    "        removed_count += 1\n",
    "    except Exception as e:\n",
    "        pass  # You can log the error if needed\n",
    "\n",
    "print(f\"Finished removing {removed_count} corrupted images.\")\n"
   ]
  },
  {
   "cell_type": "code",
   "execution_count": 31,
   "id": "54b39956-b20e-4dd7-953c-367e18780ba1",
   "metadata": {},
   "outputs": [
    {
     "name": "stdout",
     "output_type": "stream",
     "text": [
      "Total number of images in the dataset: 20842\n"
     ]
    }
   ],
   "source": [
    "\n",
    "total_images = sum(\n",
    "    1 for root, _, files in os.walk(dataset_path)\n",
    "    for file in files\n",
    "    if file.split('.')[-1].lower() in valid_extensions and not file.startswith('.')\n",
    ")\n",
    "\n",
    "print(f\"Total number of images in the dataset: {total_images}\")"
   ]
  },
  {
   "cell_type": "markdown",
   "id": "c9fd6caf-70e1-44e1-b4c6-b06881e5ac7c",
   "metadata": {},
   "source": [
    "### Remove duplicates"
   ]
  },
  {
   "cell_type": "code",
   "execution_count": 32,
   "id": "1be81882-2c36-4f4e-8001-63584dbfcdae",
   "metadata": {},
   "outputs": [
    {
     "name": "stdout",
     "output_type": "stream",
     "text": [
      "Total duplicate images found: 829\n"
     ]
    }
   ],
   "source": [
    "\n",
    "hash_dict = defaultdict(list)\n",
    "\n",
    "def get_image_hash(image_path):\n",
    "    with open(image_path, \"rb\") as f:\n",
    "        return hashlib.md5(f.read()).hexdigest()\n",
    "\n",
    "# Traverse and hash images\n",
    "for root, _, files in os.walk(dataset_directory):\n",
    "    for file in files:\n",
    "        if file.lower().endswith((\".png\", \".jpg\", \".jpeg\", \".bmp\", \".tiff\")):\n",
    "            file_path = os.path.join(root, file)\n",
    "            img_hash = get_image_hash(file_path)\n",
    "            hash_dict[img_hash].append(file_path)\n",
    "\n",
    "# Count duplicates (not remove)\n",
    "duplicates = {h: paths for h, paths in hash_dict.items() if len(paths) > 1}\n",
    "total_duplicates = sum(len(paths) - 1 for paths in duplicates.values())\n",
    "\n",
    "print(f\"Total duplicate images found: {total_duplicates}\")\n",
    "\n"
   ]
  },
  {
   "cell_type": "code",
   "execution_count": 33,
   "id": "d47add61-c014-4551-843d-65958f00ac8c",
   "metadata": {},
   "outputs": [
    {
     "name": "stdout",
     "output_type": "stream",
     "text": [
      "Total duplicate images removed: 829\n"
     ]
    }
   ],
   "source": [
    "# Remove duplicates (keep the first, remove the rest)\n",
    "removed_count = 0\n",
    "\n",
    "for paths in duplicates.values():\n",
    "    for path in paths[1:]:\n",
    "        if os.path.exists(path):\n",
    "            os.remove(path)\n",
    "            removed_count += 1\n",
    "\n",
    "print(f\"Total duplicate images removed: {removed_count}\")\n"
   ]
  },
  {
   "cell_type": "code",
   "execution_count": 34,
   "id": "87ac0a46-3808-466e-ac0e-45432ea4328c",
   "metadata": {},
   "outputs": [
    {
     "name": "stdout",
     "output_type": "stream",
     "text": [
      "Total number of images in the dataset: 20013\n"
     ]
    }
   ],
   "source": [
    "valid_extensions = {\"jpg\", \"jpeg\", \"png\", \"bmp\", \"tiff\", \"gif\"}\n",
    "\n",
    "total_images = sum(\n",
    "    1 for root, _, files in os.walk(dataset_path)\n",
    "    for file in files\n",
    "    if file.split('.')[-1].lower() in valid_extensions and not file.startswith('.')\n",
    ")\n",
    "\n",
    "print(f\"Total number of images in the dataset: {total_images}\")\n"
   ]
  },
  {
   "cell_type": "markdown",
   "id": "86de3766-90ca-49c5-9804-16e780ba81f4",
   "metadata": {},
   "source": [
    "### Stratisfied Split Check"
   ]
  },
  {
   "cell_type": "code",
   "execution_count": 38,
   "id": "56b2b70b-338f-4f91-8b58-efe2ba362b85",
   "metadata": {},
   "outputs": [
    {
     "name": "stdout",
     "output_type": "stream",
     "text": [
      "                      Disease  Images  Training  Validation  Test\n",
      "0          Cashew_anthracnose    1729      1383         173   173\n",
      "1              Cashew_gumosis     392       314          39    39\n",
      "2              Cashew_healthy    1368      1094         137   137\n",
      "3             Cashew_red rust    1681      1345         168   168\n",
      "4    Cassava_bacterial blight    2594      2075         259   260\n",
      "5          Cassava_brown spot    1465      1172         146   147\n",
      "6             Cassava_healthy    1193       954         119   120\n",
      "7              Cassava_mosaic    1113       890         111   112\n",
      "8               Maize_healthy     204       163          21    20\n",
      "9           Maize_leaf blight     987       790          99    98\n",
      "10            Maize_leaf spot    1044       835         105   104\n",
      "11         Maize_streak virus     917       734          92    91\n",
      "12             Tomato_healthy     463       370          47    46\n",
      "13         Tomato_leaf blight    1286      1029         128   129\n",
      "14           Tomato_leaf curl     511       409          51    51\n",
      "15  Tomato_septoria leaf spot    2294      1835         229   230\n",
      "16    Tomato_verticulium wilt     772       618          77    77\n",
      "\n",
      "saved clean dataset table to: dataset_distribution_table.csv\n"
     ]
    }
   ],
   "source": [
    "# imports\n",
    "import os\n",
    "import pandas as pd\n",
    "import numpy as np\n",
    "import json\n",
    "\n",
    "split_dir = r\"C:/Users/Xuxu/Desktop/Master Thesis/OptunaDensenetFull\"\n",
    "\n",
    "class_to_idx_path = os.path.join(split_dir, \"class_to_idx.json\")\n",
    "train_indices_path = os.path.join(split_dir, \"train_indices.npy\")\n",
    "val_indices_path = os.path.join(split_dir, \"val_indices.npy\")\n",
    "test_indices_path = os.path.join(split_dir, \"test_indices.npy\")\n",
    "\n",
    "# load mappings\n",
    "with open(class_to_idx_path, \"r\") as f:\n",
    "    class_to_idx = json.load(f)\n",
    "\n",
    "# reverse mapping from index to class name\n",
    "idx_to_class = {v: k for k, v in class_to_idx.items()}\n",
    "\n",
    "# load split indices\n",
    "train_indices = np.load(train_indices_path)\n",
    "val_indices = np.load(val_indices_path)\n",
    "test_indices = np.load(test_indices_path)\n",
    "\n",
    "# load image paths and labels\n",
    "image_paths = []\n",
    "labels = []\n",
    "\n",
    "for crop in sorted(os.listdir(dataset_path)):\n",
    "    for disease in sorted(os.listdir(os.path.join(dataset_path, crop))):\n",
    "        class_name = f\"{crop}_{disease}\"\n",
    "        class_idx = class_to_idx[class_name]\n",
    "        img_dir = os.path.join(dataset_path, crop, disease)\n",
    "        \n",
    "        for img_file in os.listdir(img_dir):\n",
    "            if img_file.lower().endswith((\"jpg\", \"jpeg\", \"png\")):\n",
    "                image_paths.append(os.path.join(img_dir, img_file))\n",
    "                labels.append(class_idx)\n",
    "\n",
    "labels = np.array(labels)\n",
    "\n",
    "# create distribution table\n",
    "df_data = []\n",
    "\n",
    "for idx, class_name in idx_to_class.items():\n",
    "    total_images = np.sum(labels == idx)\n",
    "    train_images = np.sum(labels[train_indices] == idx)\n",
    "    val_images = np.sum(labels[val_indices] == idx)\n",
    "    test_images = np.sum(labels[test_indices] == idx)\n",
    "\n",
    "    df_data.append({\n",
    "        \"Disease\": class_name,\n",
    "        \"Images\": total_images,\n",
    "        \"Training\": train_images,\n",
    "        \"Validation\": val_images,\n",
    "        \"Test\": test_images\n",
    "    })\n",
    "\n",
    "df = pd.DataFrame(df_data)\n",
    "\n",
    "# sort alphabetically\n",
    "df = df.sort_values(\"Disease\").reset_index(drop=True)\n",
    "\n",
    "# show and save\n",
    "print(df)\n",
    "\n",
    "save_path = \"dataset_distribution_table.csv\"\n",
    "df.to_csv(save_path, index=False)\n",
    "print(f\"\\nsaved clean dataset table to: {save_path}\")\n"
   ]
  },
  {
   "cell_type": "markdown",
   "id": "9410c99e-312f-4aa0-9b27-f6c8c67d15c2",
   "metadata": {},
   "source": [
    "# Class Imbalance "
   ]
  },
  {
   "cell_type": "code",
   "execution_count": 39,
   "id": "b1073b9a-a0fa-4835-9ebf-f016373196d7",
   "metadata": {},
   "outputs": [
    {
     "name": "stdout",
     "output_type": "stream",
     "text": [
      "\n",
      "Total images in dataset: 20013\n",
      "Training set: 16010 images\n",
      "Validation set: 2001 images\n",
      "Test set: 2002 images\n"
     ]
    },
    {
     "data": {
      "image/png": "[encoded data removed]",
      "text/plain": [
       "<Figure size 1600x700 with 1 Axes>"
      ]
     },
     "metadata": {},
     "output_type": "display_data"
    }
   ],
   "source": [
    "\n",
    "\n",
    "with open(class_to_idx_path, \"r\") as f:\n",
    "    class_to_idx = json.load(f)\n",
    "\n",
    "idx_to_class = {v: k for k, v in class_to_idx.items()}\n",
    "\n",
    "image_paths = []\n",
    "labels = []\n",
    "\n",
    "for crop in sorted(os.listdir(dataset_path)):\n",
    "    for disease in sorted(os.listdir(os.path.join(dataset_path, crop))):\n",
    "        class_name = f\"{crop}_{disease}\"\n",
    "        if class_name not in class_to_idx:\n",
    "            continue\n",
    "        class_idx = class_to_idx[class_name]\n",
    "        img_dir = os.path.join(dataset_path, crop, disease)\n",
    "\n",
    "        for img_file in os.listdir(img_dir):\n",
    "            if img_file.lower().endswith((\"jpg\", \"jpeg\", \"png\")):\n",
    "                image_paths.append(os.path.join(img_dir, img_file))\n",
    "                labels.append(class_idx)\n",
    "\n",
    "labels = np.array(labels)\n",
    "\n",
    "class_counts = defaultdict(dict)\n",
    "\n",
    "for idx, class_name in idx_to_class.items():\n",
    "    crop, disease = class_name.split(\"_\", 1)\n",
    "    total_images = np.sum(labels == idx)\n",
    "    class_counts[crop][disease] = total_images\n",
    "\n",
    "crop_names = sorted(class_counts.keys())\n",
    "clean_colors = {\n",
    "    crop: color for crop, color in zip(\n",
    "        crop_names,\n",
    "        ['#228B22', '#6B8E23', '#8FBC8F', '#A0522D']  # ForestGreen, OliveDrab, SeaGreen, Sienna\n",
    "    )\n",
    "}\n",
    "\n",
    "labels_text = []\n",
    "counts = []\n",
    "colors = []\n",
    "start_idx = 0\n",
    "\n",
    "for crop in crop_names:\n",
    "    diseases = class_counts[crop]\n",
    "    for disease, count in diseases.items():\n",
    "        labels_text.append(disease)    \n",
    "        counts.append(count)\n",
    "        colors.append(clean_colors[crop])\n",
    "    start_idx += len(diseases)\n",
    "\n",
    "fig, ax = plt.subplots(figsize=(16, 7))\n",
    "bars = ax.bar(range(len(counts)), counts, color=colors)\n",
    "\n",
    "for bar, count in zip(bars, counts):\n",
    "    height = bar.get_height()\n",
    "    ax.annotate(f'{count}', xy=(bar.get_x() + bar.get_width() / 2, height),\n",
    "                xytext=(0, 3), textcoords=\"offset points\", ha='center', va='bottom', fontsize=8)\n",
    "\n",
    "ax.set_xticks(range(len(labels_text)))\n",
    "ax.set_xticklabels(labels_text, rotation=90, fontsize=9)\n",
    "\n",
    "ax.set_ylabel(\"Sample Count\")\n",
    "ax.set_title(\"Plant Disease Distribution in the Raw CCMT Dataset\", fontsize=14)\n",
    "\n",
    "# Clean box and light gridlines\n",
    "for spine in ax.spines.values():\n",
    "    spine.set_visible(True)\n",
    "\n",
    "\n",
    "plt.tight_layout()\n",
    "\n",
    "legend_elements = [\n",
    "    Patch(facecolor='#228B22', label='Cashew'),\n",
    "    Patch(facecolor='#6B8E23', label='Cassava'),\n",
    "    Patch(facecolor='#8FBC8F', label='Maize'),\n",
    "    Patch(facecolor='#A0522D', label='Tomato')\n",
    "]\n",
    "\n",
    "ax.legend(handles=legend_elements, loc='upper right', fontsize=10, title_fontsize=11, frameon=False)\n",
    "\n",
    "save_dir = r\"C:/Users/Xuxu/Desktop/Master Thesis\"\n",
    "save_path = os.path.join(save_dir, \"plant_disease_distribution.png\")\n",
    "plt.savefig(save_path, dpi=300, bbox_inches='tight')  # High-res PNG\n",
    "\n",
    "train_indices = np.load(train_indices_path)\n",
    "val_indices = np.load(val_indices_path)\n",
    "test_indices = np.load(test_indices_path)\n",
    "\n",
    "print(f\"\\nTotal images in dataset: {len(labels)}\")\n",
    "print(f\"Training set: {len(train_indices)} images\")\n",
    "print(f\"Validation set: {len(val_indices)} images\")\n",
    "print(f\"Test set: {len(test_indices)} images\")\n",
    "\n",
    "\n"
   ]
  }
 ],
 "metadata": {
  "kernelspec": {
   "display_name": "Python 3 (ipykernel)",
   "language": "python",
   "name": "python3"
  },
  "language_info": {
   "codemirror_mode": {
    "name": "ipython",
    "version": 3
   },
   "file_extension": ".py",
   "mimetype": "text/x-python",
   "name": "python",
   "nbconvert_exporter": "python",
   "pygments_lexer": "ipython3",
   "version": "3.11.5"
  }
 },
 "nbformat": 4,
 "nbformat_minor": 5
}
